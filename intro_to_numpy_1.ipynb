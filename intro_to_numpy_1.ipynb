{
  "nbformat": 4,
  "nbformat_minor": 0,
  "metadata": {
    "colab": {
      "provenance": []
    },
    "kernelspec": {
      "name": "python3",
      "display_name": "Python 3"
    },
    "language_info": {
      "name": "python"
    }
  },
  "cells": [
    {
      "cell_type": "code",
      "execution_count": 1,
      "metadata": {
        "id": "EQDGqPHh_lT_"
      },
      "outputs": [],
      "source": [
        "import numpy as np"
      ]
    },
    {
      "cell_type": "code",
      "source": [
        "#creating array from list\n"
      ],
      "metadata": {
        "id": "U8m1jpIjAcHB"
      },
      "execution_count": null,
      "outputs": []
    },
    {
      "cell_type": "code",
      "source": [
        "arr1 = np.array([1,2,3,4,5])\n",
        "print(\"id array\", arr1)"
      ],
      "metadata": {
        "colab": {
          "base_uri": "https://localhost:8080/"
        },
        "id": "SbRlDmcwAhkT",
        "outputId": "a0186d98-8d86-4e68-9f71-9a130179b410"
      },
      "execution_count": 2,
      "outputs": [
        {
          "output_type": "stream",
          "name": "stdout",
          "text": [
            "id array [1 2 3 4 5]\n"
          ]
        }
      ]
    },
    {
      "cell_type": "code",
      "source": [
        "#2d array\n",
        "\n",
        "arr2 = np.array([[1,2,3],[4,5,6]])\n",
        "print(\"2d array\" , arr2)"
      ],
      "metadata": {
        "colab": {
          "base_uri": "https://localhost:8080/"
        },
        "id": "4i5ixfjcA-yI",
        "outputId": "37ff388e-b25e-4bad-9c1f-c76e117819ce"
      },
      "execution_count": 3,
      "outputs": [
        {
          "output_type": "stream",
          "name": "stdout",
          "text": [
            "2d array [[1 2 3]\n",
            " [4 5 6]]\n"
          ]
        }
      ]
    },
    {
      "cell_type": "code",
      "source": [
        "#list vs numpy"
      ],
      "metadata": {
        "id": "H6bfqfKbBi1E"
      },
      "execution_count": null,
      "outputs": []
    },
    {
      "cell_type": "code",
      "source": [
        "py_list = [1,2,3]\n",
        "print(\"python list multiplication\", py_list*2)"
      ],
      "metadata": {
        "colab": {
          "base_uri": "https://localhost:8080/"
        },
        "id": "_eHsZ81_Blfc",
        "outputId": "155c1f8e-c9f7-4856-efcc-da8a7934fa58"
      },
      "execution_count": 4,
      "outputs": [
        {
          "output_type": "stream",
          "name": "stdout",
          "text": [
            "python list multiplication [1, 2, 3, 1, 2, 3]\n"
          ]
        }
      ]
    },
    {
      "cell_type": "code",
      "source": [
        "#numpy array"
      ],
      "metadata": {
        "id": "Qhkh2j28B26A"
      },
      "execution_count": null,
      "outputs": []
    },
    {
      "cell_type": "code",
      "source": [
        "np_arry = np.array([1,2,3])\n",
        "print(\"python array muliplication \", np_arry*2)"
      ],
      "metadata": {
        "colab": {
          "base_uri": "https://localhost:8080/"
        },
        "id": "qF3obBhwB7w9",
        "outputId": "f1a11858-a827-4d69-fa64-70457c5d49d3"
      },
      "execution_count": 5,
      "outputs": [
        {
          "output_type": "stream",
          "name": "stdout",
          "text": [
            "python array muliplication  [2 4 6]\n"
          ]
        }
      ]
    },
    {
      "cell_type": "code",
      "source": [
        "import time\n",
        "start = time.time()\n",
        "py_list = [i*2 for i in range(1000000)]\n",
        "print(\"\\n Numpy operation time: \", time.time()-start)"
      ],
      "metadata": {
        "colab": {
          "base_uri": "https://localhost:8080/"
        },
        "id": "NUo-6H3gCsqf",
        "outputId": "4dbdaff8-4dd0-401e-d538-f3ac82239ad9"
      },
      "execution_count": 6,
      "outputs": [
        {
          "output_type": "stream",
          "name": "stdout",
          "text": [
            "\n",
            " Numpy operation time:  0.09301471710205078\n"
          ]
        }
      ]
    },
    {
      "cell_type": "code",
      "source": [
        "start = time.time()\n",
        "np_array = np.arange(10000000) * 2\n",
        "print(\"\\n Numpy operation time :\" , time.time()-start)"
      ],
      "metadata": {
        "colab": {
          "base_uri": "https://localhost:8080/"
        },
        "id": "Bn-NbqKDDIO2",
        "outputId": "6707639b-61e1-429b-d6a5-9cde9fd5695c"
      },
      "execution_count": 8,
      "outputs": [
        {
          "output_type": "stream",
          "name": "stdout",
          "text": [
            "\n",
            " Numpy operation time : 0.05451035499572754\n"
          ]
        }
      ]
    },
    {
      "cell_type": "code",
      "source": [
        "#creating array from scartch"
      ],
      "metadata": {
        "id": "WzqqAQBzD7Qy"
      },
      "execution_count": null,
      "outputs": []
    },
    {
      "cell_type": "code",
      "source": [
        "zeros = np.zeros((5,4))\n",
        "print(\"zeros array : \\n\", zeros)  #5 rows and 4 columns"
      ],
      "metadata": {
        "colab": {
          "base_uri": "https://localhost:8080/"
        },
        "id": "-Hp_za3yD905",
        "outputId": "8a7c63aa-d538-4728-d7d0-77fe135d7b93"
      },
      "execution_count": 10,
      "outputs": [
        {
          "output_type": "stream",
          "name": "stdout",
          "text": [
            "zeros array : \n",
            " [[0. 0. 0. 0.]\n",
            " [0. 0. 0. 0.]\n",
            " [0. 0. 0. 0.]\n",
            " [0. 0. 0. 0.]\n",
            " [0. 0. 0. 0.]]\n"
          ]
        }
      ]
    },
    {
      "cell_type": "code",
      "source": [
        "ones = np.ones((2,3))\n",
        "print(\"one array: \\n\",ones) #2 rows and 3 columsn"
      ],
      "metadata": {
        "colab": {
          "base_uri": "https://localhost:8080/"
        },
        "id": "M_KoRMfIERRd",
        "outputId": "da5dba25-1d4a-438f-f3d4-e8417611d375"
      },
      "execution_count": 11,
      "outputs": [
        {
          "output_type": "stream",
          "name": "stdout",
          "text": [
            "one array: \n",
            " [[1. 1. 1.]\n",
            " [1. 1. 1.]]\n"
          ]
        }
      ]
    },
    {
      "cell_type": "code",
      "source": [
        "full = np.full((2,2),7)\n",
        "print(\"full array \\n\", full)  #it fill the 7 in 2 both column an both rows"
      ],
      "metadata": {
        "colab": {
          "base_uri": "https://localhost:8080/"
        },
        "id": "KPlmZrZsFfzM",
        "outputId": "3480d7bd-7e7a-4fb0-cfef-cfa825fef3ae"
      },
      "execution_count": 12,
      "outputs": [
        {
          "output_type": "stream",
          "name": "stdout",
          "text": [
            "full array \n",
            " [[7 7]\n",
            " [7 7]]\n"
          ]
        }
      ]
    },
    {
      "cell_type": "code",
      "source": [
        "random = np.random.random((2,3))\n",
        "print(\"random array: \\n\", random)"
      ],
      "metadata": {
        "colab": {
          "base_uri": "https://localhost:8080/"
        },
        "id": "F_A4LmRrGFAY",
        "outputId": "eaaa21e7-12d6-4c10-bff0-7f0038a23289"
      },
      "execution_count": 13,
      "outputs": [
        {
          "output_type": "stream",
          "name": "stdout",
          "text": [
            "random array: \n",
            " [[0.99815146 0.5564098  0.2030193 ]\n",
            " [0.48897279 0.54079236 0.53795967]]\n"
          ]
        }
      ]
    },
    {
      "cell_type": "code",
      "source": [
        "sequnce = np.arange(0,11,2)\n",
        "print (\"sequence array:\",sequnce )  # this will step every 2 steps"
      ],
      "metadata": {
        "colab": {
          "base_uri": "https://localhost:8080/"
        },
        "id": "CzdMw1NUF2pk",
        "outputId": "6e56aed0-74ab-480b-8967-86fa5c90ae44"
      },
      "execution_count": 14,
      "outputs": [
        {
          "output_type": "stream",
          "name": "stdout",
          "text": [
            "sequence array: [ 0  2  4  6  8 10]\n"
          ]
        }
      ]
    },
    {
      "cell_type": "code",
      "source": [
        "#vector , matrix , tensor"
      ],
      "metadata": {
        "id": "eCsZfYXKIMJM"
      },
      "execution_count": null,
      "outputs": []
    },
    {
      "cell_type": "code",
      "source": [
        "vector = np.array([1,2,3])\n",
        "print(\"vector:\" , vector)   # considered as a one-dimensional array"
      ],
      "metadata": {
        "colab": {
          "base_uri": "https://localhost:8080/"
        },
        "id": "o-vpUHndIUoi",
        "outputId": "5e8cb035-8f64-472a-f07f-a14ef5af61a4"
      },
      "execution_count": 15,
      "outputs": [
        {
          "output_type": "stream",
          "name": "stdout",
          "text": [
            "vector: [1 2 3]\n"
          ]
        }
      ]
    },
    {
      "cell_type": "code",
      "source": [
        "matrix = np.array([[1,2,3],\n",
        "                   [4,5,6]])\n",
        "print(\"matrix: \", matrix)"
      ],
      "metadata": {
        "colab": {
          "base_uri": "https://localhost:8080/"
        },
        "id": "k-m7OxHoIrlv",
        "outputId": "559591e2-5cfd-4591-bf1e-f2924901ee6a"
      },
      "execution_count": 16,
      "outputs": [
        {
          "output_type": "stream",
          "name": "stdout",
          "text": [
            "matrix:  [[1 2 3]\n",
            " [4 5 6]]\n"
          ]
        }
      ]
    },
    {
      "cell_type": "code",
      "source": [
        "tensor = np.array([[[1,2],[3,4]],\n",
        "                   [[5,6],[7,8]]])\n",
        "print(\"tensor:\" , tensor)"
      ],
      "metadata": {
        "colab": {
          "base_uri": "https://localhost:8080/"
        },
        "id": "TtN95VnWJwVp",
        "outputId": "db2164a4-261f-4d3a-92f8-78d39c4c8033"
      },
      "execution_count": 17,
      "outputs": [
        {
          "output_type": "stream",
          "name": "stdout",
          "text": [
            "tensor: [[[1 2]\n",
            "  [3 4]]\n",
            "\n",
            " [[5 6]\n",
            "  [7 8]]]\n"
          ]
        }
      ]
    },
    {
      "cell_type": "code",
      "source": [
        "#\n",
        "#Array properties"
      ],
      "metadata": {
        "id": "bmSfU30YKHrf"
      },
      "execution_count": null,
      "outputs": []
    },
    {
      "cell_type": "code",
      "source": [
        "arr = np.array([[1,2,3],\n",
        "                [4,5,6]])\n",
        "print(\"shape\", arr.shape)  #check the how many rows ans columsn\n"
      ],
      "metadata": {
        "colab": {
          "base_uri": "https://localhost:8080/"
        },
        "id": "q15-5APdKLAm",
        "outputId": "06a8e627-8598-492c-eedb-d40e26f2cc42"
      },
      "execution_count": 18,
      "outputs": [
        {
          "output_type": "stream",
          "name": "stdout",
          "text": [
            "shape (2, 3)\n"
          ]
        }
      ]
    },
    {
      "cell_type": "code",
      "source": [
        "print(\"dimension \", arr.ndim)"
      ],
      "metadata": {
        "colab": {
          "base_uri": "https://localhost:8080/"
        },
        "id": "mRz1vodLKbSK",
        "outputId": "9bf81a07-f6c0-4887-f472-a28b1ae33cbd"
      },
      "execution_count": 19,
      "outputs": [
        {
          "output_type": "stream",
          "name": "stdout",
          "text": [
            "dimension  2\n"
          ]
        }
      ]
    },
    {
      "cell_type": "code",
      "source": [
        "print(\"size\",arr.size)"
      ],
      "metadata": {
        "colab": {
          "base_uri": "https://localhost:8080/"
        },
        "id": "JPwOADprLjhx",
        "outputId": "0c41e7f7-024d-4db9-ccd1-b8780c62800c"
      },
      "execution_count": 20,
      "outputs": [
        {
          "output_type": "stream",
          "name": "stdout",
          "text": [
            "size 6\n"
          ]
        }
      ]
    },
    {
      "cell_type": "code",
      "source": [
        "print(\"DType \", arr.dtype)  #info related the arrat"
      ],
      "metadata": {
        "colab": {
          "base_uri": "https://localhost:8080/"
        },
        "id": "gwbBGt_7LrJH",
        "outputId": "772383cc-6d1d-4b69-bc1d-54077917dd9f"
      },
      "execution_count": 21,
      "outputs": [
        {
          "output_type": "stream",
          "name": "stdout",
          "text": [
            "DType  int64\n"
          ]
        }
      ]
    },
    {
      "cell_type": "code",
      "source": [
        "#\n",
        "#Array Reshaping"
      ],
      "metadata": {
        "id": "-OZqnPgKL35H"
      },
      "execution_count": null,
      "outputs": []
    },
    {
      "cell_type": "code",
      "source": [
        "arr=np.arange(12)\n",
        "print(\"original array\" , arr)"
      ],
      "metadata": {
        "colab": {
          "base_uri": "https://localhost:8080/"
        },
        "id": "_vnyvp2cL6zu",
        "outputId": "0b7c00e9-923e-4f51-ef3e-6626be40bd4b"
      },
      "execution_count": 25,
      "outputs": [
        {
          "output_type": "stream",
          "name": "stdout",
          "text": [
            "original array [ 0  1  2  3  4  5  6  7  8  9 10 11]\n"
          ]
        }
      ]
    },
    {
      "cell_type": "code",
      "source": [
        "reshaped = arr.reshape((3, 4))\n",
        "print(\"\\n Reshaped array \", reshaped) # it put the values in 3 rows and 4 column"
      ],
      "metadata": {
        "colab": {
          "base_uri": "https://localhost:8080/"
        },
        "id": "kGJMF0wGMZlg",
        "outputId": "07884810-2796-4081-d755-063d6e972b4d"
      },
      "execution_count": 26,
      "outputs": [
        {
          "output_type": "stream",
          "name": "stdout",
          "text": [
            "\n",
            " Reshaped array  [[ 0  1  2  3]\n",
            " [ 4  5  6  7]\n",
            " [ 8  9 10 11]]\n"
          ]
        }
      ]
    },
    {
      "cell_type": "code",
      "source": [
        "flattened = reshaped.flatten()\n",
        "print(\"\\n flattened array\", flattened)"
      ],
      "metadata": {
        "colab": {
          "base_uri": "https://localhost:8080/"
        },
        "id": "qAMtHGSNMcv2",
        "outputId": "c86c09c5-65e7-4220-b05f-810c6a673005"
      },
      "execution_count": 27,
      "outputs": [
        {
          "output_type": "stream",
          "name": "stdout",
          "text": [
            "\n",
            " flattened array [ 0  1  2  3  4  5  6  7  8  9 10 11]\n"
          ]
        }
      ]
    },
    {
      "cell_type": "code",
      "source": [
        "transpose= reshaped.T\n",
        "print(\"\\n raveled array \", transpose)"
      ],
      "metadata": {
        "colab": {
          "base_uri": "https://localhost:8080/"
        },
        "id": "2nsne-rnNrR6",
        "outputId": "7d23249e-ec95-4793-886a-797962eb6f9e"
      },
      "execution_count": 30,
      "outputs": [
        {
          "output_type": "stream",
          "name": "stdout",
          "text": [
            "\n",
            " raveled array  [[ 0  4  8]\n",
            " [ 1  5  9]\n",
            " [ 2  6 10]\n",
            " [ 3  7 11]]\n"
          ]
        }
      ]
    },
    {
      "cell_type": "code",
      "source": [
        "#Numpy Array operations"
      ],
      "metadata": {
        "id": "wXLEn3LNOelS"
      },
      "execution_count": null,
      "outputs": []
    },
    {
      "cell_type": "code",
      "source": [
        "arr= np.array([1,2,3,4,5,6,7,8,9,10])\n",
        "print(\"Basic slicing \", arr[2:7])"
      ],
      "metadata": {
        "colab": {
          "base_uri": "https://localhost:8080/"
        },
        "id": "K4md2xwXOgnx",
        "outputId": "9472e6b4-6a4c-4329-b4f7-5bb222f8cad2"
      },
      "execution_count": 33,
      "outputs": [
        {
          "output_type": "stream",
          "name": "stdout",
          "text": [
            "Basic slicing  [3 4 5 6 7]\n"
          ]
        }
      ]
    },
    {
      "cell_type": "code",
      "source": [
        "print(\"with steps\",arr[1:8:2])    # it go from start to 8 with jump every 2 steps\n"
      ],
      "metadata": {
        "colab": {
          "base_uri": "https://localhost:8080/"
        },
        "id": "LnJjGsjuPGLj",
        "outputId": "426ecefb-5ce5-4207-bd1c-672a8b507fac"
      },
      "execution_count": 36,
      "outputs": [
        {
          "output_type": "stream",
          "name": "stdout",
          "text": [
            "with steps [2 4 6 8]\n"
          ]
        }
      ]
    },
    {
      "cell_type": "code",
      "source": [
        "print(\"negative indexing \", arr[-3])  # it go from end array"
      ],
      "metadata": {
        "colab": {
          "base_uri": "https://localhost:8080/"
        },
        "id": "I8OTDKonPxtS",
        "outputId": "4f21ed22-c64b-4c2d-cf71-fa495d10544f"
      },
      "execution_count": 37,
      "outputs": [
        {
          "output_type": "stream",
          "name": "stdout",
          "text": [
            "negative indexing  8\n"
          ]
        }
      ]
    },
    {
      "cell_type": "code",
      "source": [
        "arr_2 = np.array([[1,2,3],\n",
        "                  [4,5,6],\n",
        "                  [7,8,9]])\n",
        "print(\"specific element \", arr_2[1,2])"
      ],
      "metadata": {
        "colab": {
          "base_uri": "https://localhost:8080/"
        },
        "id": "bkrd3R7YQJkd",
        "outputId": "33613225-c214-45eb-c7c4-d51b84d97ac1"
      },
      "execution_count": 38,
      "outputs": [
        {
          "output_type": "stream",
          "name": "stdout",
          "text": [
            "specific element  6\n"
          ]
        }
      ]
    },
    {
      "cell_type": "code",
      "source": [
        "print(\"entire row\", arr_2[1])"
      ],
      "metadata": {
        "colab": {
          "base_uri": "https://localhost:8080/"
        },
        "id": "su4ZBhRGQqEs",
        "outputId": "99c81c7d-8f03-4d65-f8a4-64b0e0c77176"
      },
      "execution_count": 40,
      "outputs": [
        {
          "output_type": "stream",
          "name": "stdout",
          "text": [
            "entire row [4 5 6]\n"
          ]
        }
      ]
    },
    {
      "cell_type": "code",
      "source": [],
      "metadata": {
        "id": "H1Wl_3kRSiFB"
      },
      "execution_count": null,
      "outputs": []
    },
    {
      "cell_type": "code",
      "source": [
        "print(\"Entire row: \", arr_2[:, 1])"
      ],
      "metadata": {
        "colab": {
          "base_uri": "https://localhost:8080/"
        },
        "id": "mr2xYaA4SM2E",
        "outputId": "051b7390-ac3a-420a-da1f-9c2d1de2fd30"
      },
      "execution_count": 45,
      "outputs": [
        {
          "output_type": "stream",
          "name": "stdout",
          "text": [
            "Entire row:  [2 5 8]\n"
          ]
        }
      ]
    },
    {
      "cell_type": "code",
      "source": [
        "#sorting"
      ],
      "metadata": {
        "id": "vC5ConwPSjcG"
      },
      "execution_count": null,
      "outputs": []
    },
    {
      "cell_type": "code",
      "source": [
        "unsorted = np.array([3,1,4,1,5,9,2,6])\n",
        "print(\"sorted Array \", np.sort(unsorted))  # this sort the array"
      ],
      "metadata": {
        "colab": {
          "base_uri": "https://localhost:8080/"
        },
        "id": "UugC7kgLSlg2",
        "outputId": "9df6821e-0355-4983-b334-0eaa9d986e9e"
      },
      "execution_count": 46,
      "outputs": [
        {
          "output_type": "stream",
          "name": "stdout",
          "text": [
            "sorted Array  [1 1 2 3 4 5 6 9]\n"
          ]
        }
      ]
    },
    {
      "cell_type": "code",
      "source": [
        "arr_2d_unorered = np.array([[3,1],[1,2],[2,3]])\n",
        "print(\"sorted 2d array by column\", np.sort(arr_2d_unorered,axis = 0))"
      ],
      "metadata": {
        "colab": {
          "base_uri": "https://localhost:8080/"
        },
        "id": "NN3eUdPBS2vB",
        "outputId": "7ff7ffe5-e3f3-4e04-962d-c6b2b57bbdb9"
      },
      "execution_count": 47,
      "outputs": [
        {
          "output_type": "stream",
          "name": "stdout",
          "text": [
            "sorted 2d array by column [[1 1]\n",
            " [2 2]\n",
            " [3 3]]\n"
          ]
        }
      ]
    },
    {
      "cell_type": "code",
      "source": [
        "#\n",
        "#Filter"
      ],
      "metadata": {
        "id": "nRwXHW0vT3AJ"
      },
      "execution_count": null,
      "outputs": []
    },
    {
      "cell_type": "code",
      "source": [
        "numbers = np.array([1,2,3,4,5,6,7,8,9,10])\n",
        "even_number = numbers[numbers % 2 == 0]\n",
        "print(\"even number\", even_number)"
      ],
      "metadata": {
        "colab": {
          "base_uri": "https://localhost:8080/"
        },
        "id": "D_TVF8_kTg2A",
        "outputId": "544ac945-1db6-4fd0-9b31-12c97040c364"
      },
      "execution_count": 48,
      "outputs": [
        {
          "output_type": "stream",
          "name": "stdout",
          "text": [
            "even number [ 2  4  6  8 10]\n"
          ]
        }
      ]
    },
    {
      "cell_type": "code",
      "source": [
        "#\n",
        "#Filter with mask"
      ],
      "metadata": {
        "id": "1iUEJFBHT6Nf"
      },
      "execution_count": null,
      "outputs": []
    },
    {
      "cell_type": "code",
      "source": [
        "masks = numbers >5\n",
        "print(\"numbers greater than 5\", numbers[masks])"
      ],
      "metadata": {
        "colab": {
          "base_uri": "https://localhost:8080/"
        },
        "id": "PLtNekE8UOxo",
        "outputId": "61b00599-2029-458d-8df9-11591212cf3e"
      },
      "execution_count": 52,
      "outputs": [
        {
          "output_type": "stream",
          "name": "stdout",
          "text": [
            "numbers greater than 5 [ 6  7  8  9 10]\n"
          ]
        }
      ]
    },
    {
      "cell_type": "code",
      "source": [
        "#Fancy indexing vs np.where()"
      ],
      "metadata": {
        "id": "UEmeLe-0UmhT"
      },
      "execution_count": null,
      "outputs": []
    },
    {
      "cell_type": "code",
      "source": [
        "indices = [0, 2, 4]   #[1,2,3,4,5,6,7,8,9,10]\n",
        "print(numbers[indices])  # it check the number line and it"
      ],
      "metadata": {
        "colab": {
          "base_uri": "https://localhost:8080/"
        },
        "id": "WqSSDPsGUpex",
        "outputId": "bc27c9f6-6a9d-44bc-8dfd-bccc710a7f3e"
      },
      "execution_count": 53,
      "outputs": [
        {
          "output_type": "stream",
          "name": "stdout",
          "text": [
            "[1 3 5]\n"
          ]
        }
      ]
    },
    {
      "cell_type": "code",
      "source": [
        "where_result = np.where(numbers > 5)\n",
        "print(where_result)"
      ],
      "metadata": {
        "colab": {
          "base_uri": "https://localhost:8080/"
        },
        "id": "Jo4d3U8rWW86",
        "outputId": "6c236066-ab2b-4f49-ce37-d18193013909"
      },
      "execution_count": 54,
      "outputs": [
        {
          "output_type": "stream",
          "name": "stdout",
          "text": [
            "(array([5, 6, 7, 8, 9]),)\n"
          ]
        }
      ]
    },
    {
      "cell_type": "code",
      "source": [
        "print(\"NP where\", numbers[where_result])"
      ],
      "metadata": {
        "colab": {
          "base_uri": "https://localhost:8080/"
        },
        "id": "RbILN6qmWm_R",
        "outputId": "d03c0f0f-e8a2-4d2b-ecce-ba3e3c4e7c49"
      },
      "execution_count": 55,
      "outputs": [
        {
          "output_type": "stream",
          "name": "stdout",
          "text": [
            "NP where [ 6  7  8  9 10]\n"
          ]
        }
      ]
    },
    {
      "cell_type": "code",
      "source": [
        "#Adding and removing data\n",
        "arr1 = np.array([1,2,3])\n",
        "arr2 = np.array([4,5,6])\n",
        "combined = np.concatenate((arr1,arr2))\n",
        "print(combined)"
      ],
      "metadata": {
        "colab": {
          "base_uri": "https://localhost:8080/"
        },
        "id": "9hNKv-vsXjNo",
        "outputId": "4a36a905-7736-4bae-f5fc-9a108c7acc62"
      },
      "execution_count": 56,
      "outputs": [
        {
          "output_type": "stream",
          "name": "stdout",
          "text": [
            "[1 2 3 4 5 6]\n"
          ]
        }
      ]
    },
    {
      "cell_type": "code",
      "source": [
        "\n",
        "#array compatibilty"
      ],
      "metadata": {
        "id": "QEEL6lWWYJQd"
      },
      "execution_count": null,
      "outputs": []
    },
    {
      "cell_type": "code",
      "source": [
        "a = np.array([1,2,3])\n",
        "b = np.array([4,5,6])\n",
        "c = np.array([7,8,9])\n",
        "print(\"compatibility shapes\", a.shape == b.shape)"
      ],
      "metadata": {
        "colab": {
          "base_uri": "https://localhost:8080/"
        },
        "id": "mokoCdRxYLW1",
        "outputId": "97655a74-692b-489e-d3b4-e6189916621b"
      },
      "execution_count": 58,
      "outputs": [
        {
          "output_type": "stream",
          "name": "stdout",
          "text": [
            "compatibility shapes True\n"
          ]
        }
      ]
    },
    {
      "cell_type": "code",
      "source": [
        "a = np.array([1,2,3])\n",
        "b = np.array([4,5,6,4])\n",
        "c = np.array([7,8,9])\n",
        "print(\"compatibility shapes\", a.shape == b.shape)"
      ],
      "metadata": {
        "colab": {
          "base_uri": "https://localhost:8080/"
        },
        "id": "-48xEGu_YwBb",
        "outputId": "9104af87-858b-4f76-97df-482a9007aad2"
      },
      "execution_count": 59,
      "outputs": [
        {
          "output_type": "stream",
          "name": "stdout",
          "text": [
            "compatibility shapes False\n"
          ]
        }
      ]
    },
    {
      "cell_type": "code",
      "source": [
        "original = np.array([[1,2],[3,4]])\n",
        "new_row = np.array([[5,6]])\n",
        "with_new_row = np.vstack((original, new_row))\n",
        "print(original)"
      ],
      "metadata": {
        "colab": {
          "base_uri": "https://localhost:8080/"
        },
        "id": "f5lH4MPrZJEU",
        "outputId": "c68a4d37-19b3-45a5-9d38-6c3def1cb863"
      },
      "execution_count": 60,
      "outputs": [
        {
          "output_type": "stream",
          "name": "stdout",
          "text": [
            "[[1 2]\n",
            " [3 4]]\n"
          ]
        }
      ]
    },
    {
      "cell_type": "code",
      "source": [
        "print(with_new_row)"
      ],
      "metadata": {
        "colab": {
          "base_uri": "https://localhost:8080/"
        },
        "id": "Ikq6NL9_Zfj-",
        "outputId": "4fc748fd-18f8-45ce-f285-00488b438bb6"
      },
      "execution_count": 61,
      "outputs": [
        {
          "output_type": "stream",
          "name": "stdout",
          "text": [
            "[[1 2]\n",
            " [3 4]\n",
            " [5 6]]\n"
          ]
        }
      ]
    },
    {
      "cell_type": "code",
      "source": [
        "new_col = np.array([[7], [8]])\n",
        "with_new_col = np.hstack((original, new_col))\n",
        "print(\"with new column\", with_new_col)"
      ],
      "metadata": {
        "colab": {
          "base_uri": "https://localhost:8080/"
        },
        "id": "S0sJZcv2Z28b",
        "outputId": "51d0f92c-ef86-4a9d-d338-09d2c4b30d7f"
      },
      "execution_count": 62,
      "outputs": [
        {
          "output_type": "stream",
          "name": "stdout",
          "text": [
            "with new column [[1 2 7]\n",
            " [3 4 8]]\n"
          ]
        }
      ]
    },
    {
      "cell_type": "code",
      "source": [
        "arr = np.array([1,2,3,4,5])\n",
        "deleted = np.delete(arr,2)\n",
        "print(\"array after delation:\" , deleted)   # it deleted the array with helo of index"
      ],
      "metadata": {
        "colab": {
          "base_uri": "https://localhost:8080/"
        },
        "id": "LQrgO1PXadjA",
        "outputId": "69eb53a2-2bd8-4d3d-e4e6-932ca026d4a1"
      },
      "execution_count": 63,
      "outputs": [
        {
          "output_type": "stream",
          "name": "stdout",
          "text": [
            "array after delation: [1 2 4 5]\n"
          ]
        }
      ]
    }
  ]
}